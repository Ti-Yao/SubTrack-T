{
 "cells": [
  {
   "cell_type": "code",
   "execution_count": 36,
   "id": "da0ebb62",
   "metadata": {},
   "outputs": [],
   "source": [
    "from easyocr import Reader\n",
    "import re\n",
    "import pandas as pd\n",
    "import numpy as np\n",
    "import cv2\n",
    "import matplotlib.pyplot as plt\n",
    "import pytesseract\n",
    "from PIL import Image\n",
    "from tqdm.auto import tqdm"
   ]
  },
  {
   "cell_type": "code",
   "execution_count": 31,
   "id": "55eccd42",
   "metadata": {
    "scrolled": false
   },
   "outputs": [
    {
     "name": "stderr",
     "output_type": "stream",
     "text": [
      "CUDA not available - defaulting to CPU. Note: This module is much faster with a GPU.\n"
     ]
    }
   ],
   "source": [
    "reader_ch = Reader(['ch_sim'])\n",
    "common_dict = pd.read_csv('common_chinese_words.csv').set_index('word')['rank'].to_dict()\n",
    "# Open the video\n",
    "cap = cv2.VideoCapture('jixiaolan1.mp4')\n",
    "# Some characteristics from the original video\n",
    "fps, frames = cap.get(cv2.CAP_PROP_FPS), cap.get(cv2.CAP_PROP_FRAME_COUNT)\n",
    "second = frames/fps"
   ]
  },
  {
   "cell_type": "code",
   "execution_count": 112,
   "id": "5c74bba9",
   "metadata": {},
   "outputs": [],
   "source": [
    "def make_gray(img):\n",
    "    if np.max(img) <= 1:\n",
    "        img *= 255\n",
    "    gray = Image.fromarray((img).astype(np.uint8)).convert('L')\n",
    "    return np.array(gray)\n",
    "\n",
    "\n",
    "def dilate_erode(img):\n",
    "    img = Image.fromarray(img.astype('uint8')).convert('L')\n",
    "    img = np.array(img)  \n",
    "    \n",
    "    kernel = np.ones((2,2), np.uint8)\n",
    "    img = cv2.dilate(img, kernel, iterations = 4 )\n",
    "    # Creating kernel\n",
    "    kernel = np.ones((2, 2), np.uint8)\n",
    "    # Using cv2.erode() method \n",
    "    img = cv2.erode(img, kernel,iterations = 5 )\n",
    "    \n",
    "    \n",
    "    return np.array(img)\n",
    "\n",
    "def get_x(list_of_lists):\n",
    "    pos=np.array([np.array(xi) for xi in list_of_lists[0]])\n",
    "    x = pos[:,0]\n",
    "    return int(x.min()),int(x.max())\n",
    "\n",
    "def get_frame(frame_no):\n",
    "    cap.set(1,frame_no)\n",
    "    # Here you can define your croping values\n",
    "    x1,x2,y1,y2 = 935,1015,150,1920-150\n",
    "    #Read the next frame from the video. If you set frame 749 above then the code will return the last frame.\n",
    "    ret, frame = cap.read()\n",
    "    crop_frame = frame[x1:x2,y1:y2,:]\n",
    "    \n",
    "    \n",
    "    ret,crop_frame = cv2.threshold(make_gray(crop_frame),200,255,cv2.THRESH_BINARY_INV)\n",
    "    return crop_frame\n",
    "\n",
    "def clean(word):\n",
    "    word = word.replace('八八','小').replace('和坤','和').replace('和','和珅')\n",
    "    if len(word)==2 and (word[1] in ['一','二','三'] or word[1] not in common_dict.keys() ):\n",
    "        word = word[0]\n",
    "    elif len(word)>=2 and word[-1] in ['一','二','三']:\n",
    "        word = word[:-1]\n",
    "    return word\n",
    "\n",
    "        "
   ]
  },
  {
   "cell_type": "code",
   "execution_count": 115,
   "id": "087c20df",
   "metadata": {},
   "outputs": [],
   "source": [
    "def get_text(crop_frame):\n",
    "    result = reader_ch.readtext(dilate_erode(make_gray(cv2.bitwise_not(crop_frame))),link_threshold=0.99999,width_ths=0,min_size = 75)\n",
    "    og= reader_ch.readtext(make_gray(cv2.bitwise_not(crop_frame)),link_threshold=0.99999)\n",
    "    # plt.imshow(dilate_erode(make_gray(cv2.bitwise_not(crop_frame))))\n",
    "\n",
    "    # old_sent = ''\n",
    "    # new_sent = ''\n",
    "    og_sent = ''\n",
    "    new_results = {}\n",
    "    old_results = {}\n",
    "    for i in range(len(result)):\n",
    "        if '' != result[i][1]:\n",
    "            x_min, x_max = get_x(result[i])\n",
    "            word_crop = crop_frame[:,x_min:x_max]\n",
    "            word = reader_ch.readtext(make_gray(cv2.bitwise_not(word_crop)))\n",
    "            if len(word)!= 0:\n",
    "                new_clean_word = clean(re.sub(u'[^\\u4E00-\\u9FA5]','',' '.join(word[0][1])))\n",
    "\n",
    "                prob = word[0][-1]\n",
    "    #             new_sent += new_clean_word\n",
    "                new_x_min, new_x_max = get_x(word[0])\n",
    "                new_results[i] = {'pos':[x_min,x_max],'word':new_clean_word,'prob':prob}\n",
    "            old_clean_word = clean(re.sub(u'[^\\u4E00-\\u9FA5]','',' '.join(result[i][1])))\n",
    "    #         old_sent += old_clean_word\n",
    "            old_results[i] =  {'pos':[x_min,x_max],'word':old_clean_word,'prob':result[i][-1]}\n",
    "    for i in range(len(og)):     \n",
    "        og_sent += re.sub(u'[^\\u4E00-\\u9FA5]','',' '.join(og[i][1]))\n",
    "\n",
    "    sentence = ''\n",
    "    for i in range(len(new_results)):\n",
    "        if i in new_results.keys():\n",
    "            if new_results[i]['word'] == old_results[i]['word']:\n",
    "                sentence+= new_results[i]['word']\n",
    "            elif new_results[i]['word'] != old_results[i]['word'] and new_results[i]['word'] in og_sent:\n",
    "                sentence+= new_results[i]['word']\n",
    "            elif new_results[i]['word'] != old_results[i]['word'] and old_results[i]['word'] in og_sent:\n",
    "                sentence+= old_results[i]['word']\n",
    "            elif new_results[i]['prob'] > old_results[i]['prob'] + 0.01:\n",
    "                sentence+= new_results[i]['word']\n",
    "            elif new_results[i]['prob'] < old_results[i]['prob'] + 0.01:\n",
    "                sentence+= old_results[i]['word']\n",
    "            else:\n",
    "                new_rank = common_dict[new_results[i]['word']]\n",
    "                old_rank = common_dict[old_results[i]['word']]\n",
    "                if new_rank < old_rank:\n",
    "                    sentence += new_results[i]['word']\n",
    "                else:\n",
    "                    sentence += old_results[i]['word']\n",
    "        else:\n",
    "            try:\n",
    "                sentence+=old_results[i]['word']\n",
    "            except:\n",
    "                pass\n",
    "    return sentence"
   ]
  },
  {
   "cell_type": "code",
   "execution_count": 121,
   "id": "3bec6550",
   "metadata": {},
   "outputs": [
    {
     "name": "stderr",
     "output_type": "stream",
     "text": [
      "  2%|▉                                           | 45/2068 [01:09<52:04,  1.54s/it]\n"
     ]
    },
    {
     "ename": "KeyboardInterrupt",
     "evalue": "",
     "output_type": "error",
     "traceback": [
      "\u001b[0;31m---------------------------------------------------------------------------\u001b[0m",
      "\u001b[0;31mKeyboardInterrupt\u001b[0m                         Traceback (most recent call last)",
      "Cell \u001b[0;32mIn [121], line 3\u001b[0m\n\u001b[1;32m      1\u001b[0m srt \u001b[38;5;241m=\u001b[39m \u001b[38;5;124m'\u001b[39m\u001b[38;5;124m'\u001b[39m\n\u001b[1;32m      2\u001b[0m \u001b[38;5;28;01mfor\u001b[39;00m i \u001b[38;5;129;01min\u001b[39;00m tqdm(\u001b[38;5;28mrange\u001b[39m(\u001b[38;5;241m130\u001b[39m \u001b[38;5;241m+\u001b[39m \u001b[38;5;241m60\u001b[39m\u001b[38;5;241m+\u001b[39m\u001b[38;5;241m286\u001b[39m\u001b[38;5;241m+\u001b[39m\u001b[38;5;241m31\u001b[39m,\u001b[38;5;28mint\u001b[39m(second)\u001b[38;5;241m-\u001b[39m\u001b[38;5;241m130\u001b[39m)):\n\u001b[0;32m----> 3\u001b[0m     crop_frame \u001b[38;5;241m=\u001b[39m \u001b[43mget_frame\u001b[49m\u001b[43m(\u001b[49m\u001b[43mi\u001b[49m\u001b[43m \u001b[49m\u001b[38;5;241;43m*\u001b[39;49m\u001b[43m \u001b[49m\u001b[43mfps\u001b[49m\u001b[43m)\u001b[49m\n\u001b[1;32m      4\u001b[0m     text \u001b[38;5;241m=\u001b[39m get_text(crop_frame)\n\u001b[1;32m      5\u001b[0m     \u001b[38;5;28;01mif\u001b[39;00m \u001b[38;5;28mlen\u001b[39m(text) \u001b[38;5;241m!=\u001b[39m \u001b[38;5;241m0\u001b[39m:\n",
      "Cell \u001b[0;32mIn [112], line 28\u001b[0m, in \u001b[0;36mget_frame\u001b[0;34m(frame_no)\u001b[0m\n\u001b[1;32m     27\u001b[0m \u001b[38;5;28;01mdef\u001b[39;00m \u001b[38;5;21mget_frame\u001b[39m(frame_no):\n\u001b[0;32m---> 28\u001b[0m     \u001b[43mcap\u001b[49m\u001b[38;5;241;43m.\u001b[39;49m\u001b[43mset\u001b[49m\u001b[43m(\u001b[49m\u001b[38;5;241;43m1\u001b[39;49m\u001b[43m,\u001b[49m\u001b[43mframe_no\u001b[49m\u001b[43m)\u001b[49m\n\u001b[1;32m     29\u001b[0m     \u001b[38;5;66;03m# Here you can define your croping values\u001b[39;00m\n\u001b[1;32m     30\u001b[0m     x1,x2,y1,y2 \u001b[38;5;241m=\u001b[39m \u001b[38;5;241m935\u001b[39m,\u001b[38;5;241m1015\u001b[39m,\u001b[38;5;241m150\u001b[39m,\u001b[38;5;241m1920\u001b[39m\u001b[38;5;241m-\u001b[39m\u001b[38;5;241m150\u001b[39m\n",
      "\u001b[0;31mKeyboardInterrupt\u001b[0m: "
     ]
    }
   ],
   "source": [
    "srt = ''\n",
    "for i in tqdm(range(130 + 60+286+31,int(second)-130)):\n",
    "    crop_frame = get_frame(i * fps)\n",
    "    text = get_text(crop_frame)\n",
    "    if len(text) != 0:\n",
    "        srt+= f'{i}' + text + '\\n'"
   ]
  },
  {
   "cell_type": "code",
   "execution_count": 122,
   "id": "33c69b70",
   "metadata": {},
   "outputs": [
    {
     "name": "stdout",
     "output_type": "stream",
     "text": [
      "550大爷恕咱眼这这哪出啊\n",
      "551大爷恕咱眼拙这这哪出啊\n",
      "\n"
     ]
    }
   ],
   "source": [
    "print(srt)"
   ]
  },
  {
   "cell_type": "code",
   "execution_count": 49,
   "id": "933cd79d",
   "metadata": {},
   "outputs": [],
   "source": [
    "crop_frame = get_frame(121 * fps)\n",
    "text = get_text(crop_frame)"
   ]
  },
  {
   "cell_type": "code",
   "execution_count": 50,
   "id": "471ec979",
   "metadata": {},
   "outputs": [
    {
     "data": {
      "text/plain": [
       "''"
      ]
     },
     "execution_count": 50,
     "metadata": {},
     "output_type": "execute_result"
    }
   ],
   "source": [
    "text"
   ]
  },
  {
   "cell_type": "code",
   "execution_count": null,
   "id": "c16108fd",
   "metadata": {},
   "outputs": [],
   "source": []
  }
 ],
 "metadata": {
  "kernelspec": {
   "display_name": "Python 3 (ipykernel)",
   "language": "python",
   "name": "python3"
  },
  "language_info": {
   "codemirror_mode": {
    "name": "ipython",
    "version": 3
   },
   "file_extension": ".py",
   "mimetype": "text/x-python",
   "name": "python",
   "nbconvert_exporter": "python",
   "pygments_lexer": "ipython3",
   "version": "3.10.4"
  }
 },
 "nbformat": 4,
 "nbformat_minor": 5
}
